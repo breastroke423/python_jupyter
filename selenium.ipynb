{
 "cells": [
  {
   "cell_type": "code",
   "execution_count": 19,
   "metadata": {},
   "outputs": [
    {
     "name": "stdout",
     "output_type": "stream",
     "text": [
      "Requirement already satisfied: selenium in c:\\users\\81703\\anaconda3\\lib\\site-packages (3.141.0)\n",
      "Requirement already satisfied: urllib3 in c:\\users\\81703\\anaconda3\\lib\\site-packages (from selenium) (1.25.11)\n"
     ]
    }
   ],
   "source": [
    "!pip install selenium"
   ]
  },
  {
   "cell_type": "code",
   "execution_count": 2,
   "metadata": {},
   "outputs": [],
   "source": [
    "from selenium import webdriver"
   ]
  },
  {
   "cell_type": "code",
   "execution_count": 38,
   "metadata": {},
   "outputs": [],
   "source": [
    "import pandas as pd"
   ]
  },
  {
   "cell_type": "code",
   "execution_count": 22,
   "metadata": {},
   "outputs": [
    {
     "name": "stdout",
     "output_type": "stream",
     "text": [
      "year\n"
     ]
    }
   ],
   "source": []
  },
  {
   "cell_type": "code",
   "execution_count": 6,
   "metadata": {},
   "outputs": [],
   "source": [
    "# ブラウザを開く\n",
    "browser = webdriver.Chrome('chromedriver.exe')\n",
    "url = 'https://scraping-for-beginner.herokuapp.com/login_page'\n",
    "# URLに飛ぶ\n",
    "browser.get(url)\n",
    "# ユーザーネームとパスワードを自動入力後クリック。検証ツールから一意のタグを見つけてきて入力。今回はidをつかう。\n",
    "elem_username = browser.find_element_by_id('username')\n",
    "elem_username.send_keys('imanishi')\n",
    "elem_password = browser.find_element_by_id('password')\n",
    "elem_password.send_keys('kohei')\n",
    "elem_login_btn = browser.find_element_by_id('login-btn')\n",
    "elem_login_btn.click()"
   ]
  },
  {
   "cell_type": "code",
   "execution_count": 19,
   "metadata": {},
   "outputs": [],
   "source": [
    "# ある文字をとってきて表示\n",
    "elem_name = browser.find_element_by_id('name')\n",
    "name = elem_name.text\n",
    "elem_company = browser.find_element_by_id('company')\n",
    "company = elem_company.text\n",
    "elem_birthday = browser.find_element_by_id('birthday')\n",
    "birthday = elem_birthday.text\n",
    "elem_come_from = browser.find_element_by_id('come_from')\n",
    "come_from = elem_come_from.text\n",
    "elem_hobby = browser.find_element_by_id('hobby')\n",
    "hobby = elem_hobby.text"
   ]
  },
  {
   "cell_type": "code",
   "execution_count": 20,
   "metadata": {},
   "outputs": [
    {
     "data": {
      "text/plain": [
       "'千葉県'"
      ]
     },
     "execution_count": 20,
     "metadata": {},
     "output_type": "execute_result"
    }
   ],
   "source": []
  },
  {
   "cell_type": "code",
   "execution_count": 22,
   "metadata": {},
   "outputs": [
    {
     "data": {
      "text/plain": [
       "'バスケットボール,読書,ガジェット集め'"
      ]
     },
     "execution_count": 22,
     "metadata": {},
     "output_type": "execute_result"
    }
   ],
   "source": [
    "# 改行のｎを削除\n",
    "hobby.replace('\\n',',')"
   ]
  },
  {
   "cell_type": "code",
   "execution_count": 34,
   "metadata": {},
   "outputs": [
    {
     "data": {
      "text/plain": [
       "['講師名', '所属企業', '生年月日', '出身', '趣味']"
      ]
     },
     "execution_count": 34,
     "metadata": {},
     "output_type": "execute_result"
    }
   ],
   "source": [
    "# 複数のタグの内容をとってくる\n",
    "elems_th = browser.find_elements_by_tag_name('th')\n",
    "# 配列に入れてみる\n",
    "keys =[]\n",
    "# for文ですべて表示する\n",
    "for elem in elems_th:\n",
    "    key = elem.text\n",
    "    keys.append(key)\n",
    "keys"
   ]
  },
  {
   "cell_type": "code",
   "execution_count": 37,
   "metadata": {},
   "outputs": [
    {
     "data": {
      "text/plain": [
       "['今西 航平', '株式会社キカガク', '1994年7月15日', '千葉県', 'バスケットボール,読書,ガジェット集め']"
      ]
     },
     "execution_count": 37,
     "metadata": {},
     "output_type": "execute_result"
    }
   ],
   "source": [
    "# 複数のタグの内容をとってくる\n",
    "elems_td = browser.find_elements_by_tag_name('td')\n",
    "# 配列に入れてみる\n",
    "values =[]\n",
    "# for文ですべて表示する\n",
    "for elem in elems_td:\n",
    "    value = elem.text.replace('\\n',',')\n",
    "    values.append(value)\n",
    "values"
   ]
  },
  {
   "cell_type": "code",
   "execution_count": 39,
   "metadata": {},
   "outputs": [],
   "source": [
    "df = pd.DataFrame()"
   ]
  },
  {
   "cell_type": "code",
   "execution_count": 40,
   "metadata": {},
   "outputs": [],
   "source": [
    "df['項目'] = keys\n",
    "df['値'] = values"
   ]
  },
  {
   "cell_type": "code",
   "execution_count": 41,
   "metadata": {},
   "outputs": [
    {
     "data": {
      "text/html": [
       "<div>\n",
       "<style scoped>\n",
       "    .dataframe tbody tr th:only-of-type {\n",
       "        vertical-align: middle;\n",
       "    }\n",
       "\n",
       "    .dataframe tbody tr th {\n",
       "        vertical-align: top;\n",
       "    }\n",
       "\n",
       "    .dataframe thead th {\n",
       "        text-align: right;\n",
       "    }\n",
       "</style>\n",
       "<table border=\"1\" class=\"dataframe\">\n",
       "  <thead>\n",
       "    <tr style=\"text-align: right;\">\n",
       "      <th></th>\n",
       "      <th>項目</th>\n",
       "      <th>値</th>\n",
       "    </tr>\n",
       "  </thead>\n",
       "  <tbody>\n",
       "    <tr>\n",
       "      <th>0</th>\n",
       "      <td>講師名</td>\n",
       "      <td>今西 航平</td>\n",
       "    </tr>\n",
       "    <tr>\n",
       "      <th>1</th>\n",
       "      <td>所属企業</td>\n",
       "      <td>株式会社キカガク</td>\n",
       "    </tr>\n",
       "    <tr>\n",
       "      <th>2</th>\n",
       "      <td>生年月日</td>\n",
       "      <td>1994年7月15日</td>\n",
       "    </tr>\n",
       "    <tr>\n",
       "      <th>3</th>\n",
       "      <td>出身</td>\n",
       "      <td>千葉県</td>\n",
       "    </tr>\n",
       "    <tr>\n",
       "      <th>4</th>\n",
       "      <td>趣味</td>\n",
       "      <td>バスケットボール,読書,ガジェット集め</td>\n",
       "    </tr>\n",
       "  </tbody>\n",
       "</table>\n",
       "</div>"
      ],
      "text/plain": [
       "     項目                    値\n",
       "0   講師名                今西 航平\n",
       "1  所属企業             株式会社キカガク\n",
       "2  生年月日           1994年7月15日\n",
       "3    出身                  千葉県\n",
       "4    趣味  バスケットボール,読書,ガジェット集め"
      ]
     },
     "execution_count": 41,
     "metadata": {},
     "output_type": "execute_result"
    }
   ],
   "source": [
    "df"
   ]
  },
  {
   "cell_type": "code",
   "execution_count": 44,
   "metadata": {},
   "outputs": [],
   "source": [
    "df.to_csv('講師情報.csv', index = False)"
   ]
  },
  {
   "cell_type": "code",
   "execution_count": null,
   "metadata": {},
   "outputs": [],
   "source": []
  }
 ],
 "metadata": {
  "kernelspec": {
   "display_name": "Python 3",
   "language": "python",
   "name": "python3"
  },
  "language_info": {
   "codemirror_mode": {
    "name": "ipython",
    "version": 3
   },
   "file_extension": ".py",
   "mimetype": "text/x-python",
   "name": "python",
   "nbconvert_exporter": "python",
   "pygments_lexer": "ipython3",
   "version": "3.8.5"
  }
 },
 "nbformat": 4,
 "nbformat_minor": 4
}
